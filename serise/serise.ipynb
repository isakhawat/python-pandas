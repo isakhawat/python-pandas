{
  "nbformat": 4,
  "nbformat_minor": 0,
  "metadata": {
    "colab": {
      "name": "serise",
      "provenance": []
    },
    "kernelspec": {
      "name": "python3",
      "display_name": "Python 3"
    }
  },
  "cells": [
    {
      "cell_type": "code",
      "metadata": {
        "id": "5ipwknSM_rm2",
        "colab_type": "code",
        "outputId": "8ef9274b-7853-4010-8776-ebd0ec7b5385",
        "colab": {
          "base_uri": "https://localhost:8080/",
          "height": 34
        }
      },
      "source": [
        "#create empty serise\n",
        "import pandas as pd\n",
        "\n",
        "a = pd.Series()\n",
        "print(a)"
      ],
      "execution_count": 0,
      "outputs": [
        {
          "output_type": "stream",
          "text": [
            "Series([], dtype: float64)\n"
          ],
          "name": "stdout"
        }
      ]
    },
    {
      "cell_type": "code",
      "metadata": {
        "id": "PhOHwzQTCIad",
        "colab_type": "code",
        "colab": {}
      },
      "source": [
        ""
      ],
      "execution_count": 0,
      "outputs": []
    },
    {
      "cell_type": "code",
      "metadata": {
        "id": "AQJXgCaVCXwC",
        "colab_type": "code",
        "outputId": "58ff8d39-c91e-4799-86b0-76a314da9bdb",
        "colab": {
          "base_uri": "https://localhost:8080/",
          "height": 102
        }
      },
      "source": [
        " #Create a Series from ndarray\n",
        "import pandas as pd\n",
        "import numpy as np\n",
        "data = np.array(['a','b','c','d'])\n",
        "# b = pd.Series(data)\n",
        "b = pd.Series(data,index=[100,202,303,404])\n",
        " \n",
        "print(b)\n"
      ],
      "execution_count": 0,
      "outputs": [
        {
          "output_type": "stream",
          "text": [
            "100    a\n",
            "202    b\n",
            "303    c\n",
            "404    d\n",
            "dtype: object\n"
          ],
          "name": "stdout"
        }
      ]
    },
    {
      "cell_type": "code",
      "metadata": {
        "id": "cL4D6MfLCbKs",
        "colab_type": "code",
        "colab": {}
      },
      "source": [
        "#Create a Series from dict\n",
        "\n",
        "import pandas as pd\n",
        "import numpy as np\n",
        "data = {'d':12,'e':123, 'a':2,'c':9}\n",
        "#b = pd.Series(data)\n",
        "aja = pd.Series(data,index['a','b','c','e','d'])\n",
        "print(aja)"
      ],
      "execution_count": 0,
      "outputs": []
    },
    {
      "cell_type": "code",
      "metadata": {
        "id": "3QezjhsDDldx",
        "colab_type": "code",
        "outputId": "8f22406a-e57a-4646-da33-abbce93c4dca",
        "colab": {
          "base_uri": "https://localhost:8080/",
          "height": 34
        }
      },
      "source": [
        "import pandas as pd\n",
        "s = pd.Series([1,2,3,4,5],index = ['a','b','c','d','e'])\n",
        "\n",
        "#retrieve the first element\n",
        "print (s[2])"
      ],
      "execution_count": 0,
      "outputs": [
        {
          "output_type": "stream",
          "text": [
            "3\n"
          ],
          "name": "stdout"
        }
      ]
    },
    {
      "cell_type": "code",
      "metadata": {
        "id": "fjSl6bH8OOFQ",
        "colab_type": "code",
        "colab": {}
      },
      "source": [
        ""
      ],
      "execution_count": 0,
      "outputs": []
    }
  ]
}